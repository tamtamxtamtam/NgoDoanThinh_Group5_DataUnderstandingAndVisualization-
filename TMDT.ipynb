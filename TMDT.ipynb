{
 "cells": [
  {
   "cell_type": "code",
   "execution_count": 1,
   "metadata": {},
   "outputs": [],
   "source": [
    "import pandas as pd\n",
    "import math\n",
    "import matplotlib.pyplot as plt     #I am pretty sure pyplot is the original functionality of matplotlib\n",
    "import matplotlib.ticker as ticker\n",
    "import numpy as np"
   ]
  },
  {
   "cell_type": "code",
   "execution_count": 3,
   "metadata": {},
   "outputs": [],
   "source": [
    "tm = pd.read_csv(\"outputTMDT.csv\")"
   ]
  },
  {
   "cell_type": "code",
   "execution_count": 4,
   "metadata": {},
   "outputs": [
    {
     "name": "stdout",
     "output_type": "stream",
     "text": [
      "Index(['link', 'Thương hiệu', 'Tình trạng', 'Tên', 'Ảnh/0', 'Ảnh/1', 'Ảnh/2',\n",
      "       'Ảnh/3', 'Ảnh/4', 'Ảnh/5', 'Ảnh/6', 'Giá bán', 'Giá cũ', 'Ảnh/7',\n",
      "       'Ảnh/8', 'Ảnh/9'],\n",
      "      dtype='object')\n"
     ]
    }
   ],
   "source": [
    "print(tm.keys())"
   ]
  },
  {
   "cell_type": "code",
   "execution_count": 6,
   "metadata": {},
   "outputs": [
    {
     "name": "stdout",
     "output_type": "stream",
     "text": [
      "Vans        203\n",
      "Converse    200\n",
      "C             2\n",
      "Name: Thương hiệu, dtype: int64\n"
     ]
    }
   ],
   "source": [
    "count = tm['Thương hiệu'].value_counts()\n",
    "print(count)"
   ]
  },
  {
   "cell_type": "code",
   "execution_count": null,
   "metadata": {},
   "outputs": [],
   "source": []
  }
 ],
 "metadata": {
  "kernelspec": {
   "display_name": "Python 3",
   "language": "python",
   "name": "python3"
  },
  "language_info": {
   "codemirror_mode": {
    "name": "ipython",
    "version": 3
   },
   "file_extension": ".py",
   "mimetype": "text/x-python",
   "name": "python",
   "nbconvert_exporter": "python",
   "pygments_lexer": "ipython3",
   "version": "3.8.3"
  }
 },
 "nbformat": 4,
 "nbformat_minor": 4
}
